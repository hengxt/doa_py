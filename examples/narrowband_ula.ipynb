{
 "cells": [
  {
   "cell_type": "code",
   "execution_count": null,
   "metadata": {},
   "outputs": [],
   "source": [
    "import numpy as np"
   ]
  },
  {
   "cell_type": "markdown",
   "metadata": {},
   "source": [
    "### Import Signal 和 Array\n",
    "`signal.py`定义了一些常用的信号类型，信号对应的Class都继承自`Signal`基类, 用于产生多个入射信号  \n",
    "`array.py`定义了一些常用的阵列结构，所有的阵列对应的Class都继承自`Array`基类，`Array`会使用`Signal`产生的信号以及入射角度，根据阵列接受信号的数学模型生成阵列接受信号的仿真数据  \n",
    "\n",
    "阵列接收信号的数学模型（窄带信号）:\n",
    "$\\bf{X} = \\bf{A} \\bf{S}$\n",
    "\n",
    "其中：\n",
    "$\\bf{X} = \\begin{bmatrix}\n",
    "x_1(t) & x_2(t) & \\dots & x_M(t)\n",
    "\\end{bmatrix}^T$ 是一个$M\\times 1$维的向量，表示阵列接收到的信号  \n",
    "\n",
    "$\\bf{A} = \\begin{bmatrix}\n",
    "\\bf{a}(\\theta_1) & \\bf{a}(\\theta_2) & \\dots & \\bf{a}(\\theta_N)\n",
    "\\end{bmatrix}$ 是一个$M \\times N$维的矩阵，表示阵列的流型矩阵  \n",
    "$\\bf{a}(\\theta_n) =\\begin{bmatrix}\n",
    "e^{-j \\omega_0 \\tau_{1n}} & e^{-j \\omega_0 \\tau_{2n}} \\dots & e^{-j \\omega_0 \\tau_{Mn}}\n",
    "\\end{bmatrix}^T$是与入射角度对应的导向矢量\n",
    "\n",
    "$\\bf{X} = \\begin{bmatrix}\n",
    "s_1(t) & s_2(t) & \\dots & s_N(t)\n",
    "\\end{bmatrix}^T$ 是一个$N\\times 1$维的向量，表示入射的信号  "
   ]
  },
  {
   "cell_type": "code",
   "execution_count": null,
   "metadata": {},
   "outputs": [],
   "source": [
    "from classical_doa.arrays import UniformLinearArray\n",
    "from classical_doa.signals import ComplexStochasticSignal"
   ]
  },
  {
   "cell_type": "markdown",
   "metadata": {},
   "source": [
    "### 设定仿真参数\n",
    "设定与阵列结构以及信号参数、入射方向有关的仿真参数，产生采样后的阵列接受信号"
   ]
  },
  {
   "cell_type": "code",
   "execution_count": null,
   "metadata": {},
   "outputs": [],
   "source": [
    "# 信号参数\n",
    "num_snapshots = 300\n",
    "signal_fre = 2e7\n",
    "fs = 5e7\n",
    "snr = 0\n",
    "\n",
    "# 阵列参数\n",
    "num_antennas = 8\n",
    "antenna_spacing = 0.5 * (3e8 / signal_fre)  # 阵元间距半波长\n",
    "\n",
    "# 入射角度\n",
    "angle_incidence = np.array([-60, 0, 30])"
   ]
  },
  {
   "cell_type": "markdown",
   "metadata": {},
   "source": [
    "### 生成仿真信号\n",
    "创建`Array`和`Signal`的实例，并生成阵列接受信号的仿真数据"
   ]
  },
  {
   "cell_type": "code",
   "execution_count": null,
   "metadata": {},
   "outputs": [],
   "source": [
    "# 创建信号实例\n",
    "signal = ComplexStochasticSignal(nsamples=num_snapshots,\n",
    "                                 fre=signal_fre, fs=fs)\n",
    "\n",
    "# 创建阵列实例\n",
    "array = UniformLinearArray(m=num_antennas, dd=antenna_spacing)\n",
    "\n",
    "# 使用信号和阵列生成仿真数据\n",
    "received_data = array.received_signal(signal=signal, snr=snr,\n",
    "                                      angle_incidence=angle_incidence,\n",
    "                                      unit=\"deg\")"
   ]
  },
  {
   "cell_type": "markdown",
   "metadata": {},
   "source": [
    "### 估计入射角\n",
    "`algorithm`中定义了几种经典的DOA估计算法，有些算法会输出空间谱，有些算法会直接输出估计的入射角的值  \n",
    "首先import两个和绘图函数，分别用于展示这两种算法的估计结果"
   ]
  },
  {
   "cell_type": "code",
   "execution_count": null,
   "metadata": {},
   "outputs": [],
   "source": [
    "from classical_doa.plot import plot_estimated_value, plot_spatial_spectrum"
   ]
  },
  {
   "cell_type": "markdown",
   "metadata": {},
   "source": [
    "#### MUSIC 算法"
   ]
  },
  {
   "cell_type": "code",
   "execution_count": null,
   "metadata": {},
   "outputs": [],
   "source": [
    "search_grids = np.arange(-90, 90, 1)\n",
    "num_signal = len(angle_incidence)\n",
    "\n",
    "from classical_doa.algorithm.music import music\n",
    "\n",
    "music_spectrum = music(received_data=received_data,\n",
    "                       num_signal=num_signal,\n",
    "                       array=array,\n",
    "                       signal_fre=signal_fre,\n",
    "                       angle_grids=search_grids,\n",
    "                       unit=\"deg\")\n",
    "\n",
    "# 绘制空间谱\n",
    "plot_spatial_spectrum(spectrum=music_spectrum,\n",
    "                      angle_grids=search_grids,\n",
    "                      ground_truth=angle_incidence)"
   ]
  },
  {
   "cell_type": "markdown",
   "metadata": {},
   "source": [
    "#### Root-MUSIC 算法"
   ]
  },
  {
   "cell_type": "code",
   "execution_count": null,
   "metadata": {},
   "outputs": [],
   "source": [
    "from classical_doa.algorithm.music import root_music\n",
    "\n",
    "rmusic_estimates = root_music(received_data=received_data,\n",
    "                              num_signal=num_signal,\n",
    "                              array=array,\n",
    "                              signal_fre=signal_fre,\n",
    "                              unit=\"deg\")\n",
    "\n",
    "plot_estimated_value(estimates=rmusic_estimates,\n",
    "                     ground_truth=angle_incidence)"
   ]
  },
  {
   "cell_type": "markdown",
   "metadata": {},
   "source": [
    "#### ESPRIT 算法"
   ]
  },
  {
   "cell_type": "code",
   "execution_count": null,
   "metadata": {},
   "outputs": [],
   "source": [
    "from classical_doa.algorithm.esprit import esprit\n",
    "\n",
    "esprit_estimates = esprit(received_data=received_data,\n",
    "                          num_signal=num_signal,\n",
    "                          array=array,\n",
    "                          signal_fre=signal_fre)\n",
    "\n",
    "plot_estimated_value(estimates=esprit_estimates,\n",
    "                     ground_truth=angle_incidence)"
   ]
  },
  {
   "cell_type": "markdown",
   "metadata": {},
   "source": [
    "#### OMP 算法"
   ]
  },
  {
   "cell_type": "code",
   "execution_count": null,
   "metadata": {},
   "outputs": [],
   "source": [
    "from classical_doa.algorithm.sparse import omp\n",
    "\n",
    "omp_estimates = omp(received_data=received_data,\n",
    "                    num_signal=num_signal,\n",
    "                    array=array,\n",
    "                    signal_fre=signal_fre,\n",
    "                    angle_grids=search_grids,\n",
    "                    unit=\"deg\")\n",
    "\n",
    "plot_estimated_value(estimates=omp_estimates,\n",
    "                     ground_truth=angle_incidence)"
   ]
  }
 ],
 "metadata": {
  "kernelspec": {
   "display_name": "pytorch",
   "language": "python",
   "name": "python3"
  },
  "language_info": {
   "codemirror_mode": {
    "name": "ipython",
    "version": 3
   },
   "file_extension": ".py",
   "mimetype": "text/x-python",
   "name": "python",
   "nbconvert_exporter": "python",
   "pygments_lexer": "ipython3",
   "version": "3.11.6"
  }
 },
 "nbformat": 4,
 "nbformat_minor": 2
}
